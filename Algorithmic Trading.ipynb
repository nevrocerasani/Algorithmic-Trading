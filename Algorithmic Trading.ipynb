{
 "cells": [
  {
   "cell_type": "code",
   "execution_count": 1,
   "metadata": {},
   "outputs": [
    {
     "name": "stderr",
     "output_type": "stream",
     "text": [
      "/Users/nevrocerasani/opt/anaconda3/lib/python3.7/site-packages/pandas_datareader/compat/__init__.py:7: FutureWarning: pandas.util.testing is deprecated. Use the functions in the public API at pandas.testing instead.\n",
      "  from pandas.util.testing import assert_frame_equal\n"
     ]
    }
   ],
   "source": [
    "# Importing the necessary packages\n",
    "\n",
    "import pandas as pd\n",
    "import pandas_datareader as web\n",
    "import numpy as np\n",
    "import matplotlib.pyplot as plt"
   ]
  },
  {
   "cell_type": "code",
   "execution_count": 2,
   "metadata": {},
   "outputs": [],
   "source": [
    "# Coding the strategy\n",
    "\n",
    "def strategy(stock):\n",
    "    \n",
    "    #Retrieving the prices\n",
    "    start_date = \"01-01-2018\"\n",
    "    end_date = \"08-01-2020\"\n",
    "    prices = web.DataReader(stock, data_source=\"yahoo\", start=start_date, end=end_date)[\"Adj Close\"].to_frame()\n",
    "    df = pd.DataFrame()\n",
    "    df[stock] = prices[\"Adj Close\"]\n",
    "    \n",
    "    # Computing the moving averages\n",
    "    periods = [7,14,21]\n",
    "    terms = [\"Short\", \"Medium\", \"Long\"]\n",
    "    for i in range(len(periods)):\n",
    "        df[\"MA \" + str(terms[i])] = df[stock].ewm(span=periods[i]).mean()\n",
    "    \n",
    "    duplicated = df[df.index.duplicated()]\n",
    "    for i in duplicated.index:\n",
    "        df.drop(i, axis=0, inplace=True)\n",
    "    \n",
    "    # Computing the RSI\n",
    "    def RSI (df, time_window):\n",
    "        diff = df.diff(1).dropna()\n",
    "        up_chg = 0 * diff\n",
    "        down_chg = 0 * diff\n",
    "        up_chg[diff > 0] = diff[diff>0]\n",
    "        down_chg[diff < 0] = diff[diff < 0]\n",
    "        up_chg_avg = up_chg.ewm(com=time_window-1, min_periods=time_window).mean()\n",
    "        down_chg_avg = down_chg.ewm(com=time_window-1, min_periods=time_window).mean()\n",
    "        rs = abs(up_chg_avg/down_chg_avg)\n",
    "        rsi = 100 - 100/(1+rs)\n",
    "        return rsi\n",
    "    df[\"RSI\"] = RSI(df[stock], 14)\n",
    "    df = df.dropna()\n",
    "    \n",
    "    # Determining the direction of the trend and its strenght\n",
    "    df[\"Trend\"] = [\"Bullish\" if k[stock]>k[\"MA Long\"] else \"Bearish\" for j,k in df.iterrows()]\n",
    "    df[\"Trend strenght\"] = [\"Strong\" if i>50 else \"Weak\" for i in df[\"RSI\"]]\n",
    "    \n",
    "    # Generating the signals\n",
    "    signal = []\n",
    "    flag = \"N\"\n",
    "    for i in range(len(df)):\n",
    "        if df[\"MA Short\"][i]>df[\"MA Medium\"][i] and flag!=\"B\" and df[\"Trend\"][i]==\"Bullish\" and df[\"Trend strenght\"][i]==\"Strong\":\n",
    "            signal.append(\"Buy\")\n",
    "            flag=\"B\"\n",
    "        elif df[\"MA Short\"][i]<df[\"MA Medium\"][i] and flag!=\"S\" and df[\"Trend\"][i]==\"Bearish\" and df[\"Trend strenght\"][i]==\"Weak\":\n",
    "            signal.append(\"Sell\")\n",
    "            flag=\"S\"\n",
    "        else:\n",
    "            signal.append(np.nan)\n",
    "    signal[0] = np.nan\n",
    "    indices = [signal.index(i) for i in signal if (i==\"Buy\") | (i==\"Sell\")]\n",
    "    signal[indices[0]] = np.nan\n",
    "    df[\"Signal\"] = signal\n",
    "    \n",
    "    buy_signals = []\n",
    "    sell_signals = []\n",
    "    for j,k in df.iterrows():\n",
    "        if k[\"Signal\"] == \"Buy\":\n",
    "            buy_signals.append(k[stock])\n",
    "            sell_signals.append(np.nan)\n",
    "        elif k[\"Signal\"] == \"Sell\":\n",
    "            sell_signals.append(k[stock])\n",
    "            buy_signals.append(np.nan)\n",
    "        else:\n",
    "            buy_signals.append(np.nan)\n",
    "            sell_signals.append(np.nan)\n",
    "        \n",
    "    return df"
   ]
  },
  {
   "cell_type": "code",
   "execution_count": 3,
   "metadata": {},
   "outputs": [],
   "source": [
    "# Selecting the stocks for the backtesting with a capital of 100000 €\n",
    "\n",
    "shares = [\"PYPL\", \"NFLX\", \"AAPL\", \"AMZN\", \"GOOGL\", \"FB\"]\n",
    "capital = 100000\n",
    "portfolio = {}\n",
    "\n",
    "dfs = []\n",
    "for i in shares:\n",
    "    dfs.append(strategy(i))\n",
    "\n",
    "dates = dfs[3].index\n",
    "port_trend = []"
   ]
  },
  {
   "cell_type": "code",
   "execution_count": 4,
   "metadata": {},
   "outputs": [
    {
     "name": "stderr",
     "output_type": "stream",
     "text": [
      "/Users/nevrocerasani/opt/anaconda3/lib/python3.7/site-packages/ipykernel_launcher.py:3: RuntimeWarning: divide by zero encountered in double_scalars\n",
      "  This is separate from the ipykernel package so we can avoid doing imports until\n"
     ]
    }
   ],
   "source": [
    "for i in dates:\n",
    "    shares_in_port = portfolio.keys()\n",
    "    allocation = capital/(len(shares) - len(portfolio))\n",
    "    for j in dfs:\n",
    "        which_share = j.columns[0]\n",
    "        if j.loc[i,\"Signal\"]==\"Buy\":\n",
    "            buy_price = j.loc[i, which_share]\n",
    "            number_of_shares = np.floor(allocation/buy_price)\n",
    "            portfolio[which_share] = [number_of_shares, buy_price]\n",
    "            \n",
    "        elif j.loc[i,\"Signal\"]==\"Sell\":\n",
    "            if which_share in shares_in_port:\n",
    "                profit = (j.loc[i, which_share] - portfolio[which_share][1]) * portfolio[which_share][0]\n",
    "                capital += profit\n",
    "                port_trend.append([i, capital])\n",
    "                del portfolio[which_share]\n",
    "        \n",
    "        # Setting a stop loss of 10% below the buying price\n",
    "        if (which_share in shares_in_port) and (j.loc[i, which_share] < portfolio[which_share][1]*0.9):\n",
    "            profit = (j.loc[i, which_share] - portfolio[which_share][1]) * portfolio[which_share][0]\n",
    "            capital += profit\n",
    "            port_trend.append([i, capital])\n",
    "            del portfolio[which_share]\n",
    "        \n",
    "        # Setting a stop profit of 20% above the buying price\n",
    "        if (which_share in shares_in_port) and (j.loc[i, which_share] > portfolio[which_share][1]*1.2):\n",
    "            profit = (j.loc[i, which_share] - portfolio[which_share][1]) * portfolio[which_share][0]\n",
    "            capital += profit\n",
    "            port_trend.append([i, capital])\n",
    "            del portfolio[which_share]"
   ]
  },
  {
   "cell_type": "code",
   "execution_count": 5,
   "metadata": {},
   "outputs": [
    {
     "name": "stdout",
     "output_type": "stream",
     "text": [
      "If you had invested 100.000€ in 2018 according to this strategy, your capital now would be 243178.0€.\n",
      "Plus, you would still have the following shares in your portfolio:\n",
      "GOOGL\n",
      "FB\n"
     ]
    }
   ],
   "source": [
    "print(\"If you had invested 100.000€ in 2018 according to this strategy, your capital now would be \" + str(np.round(capital)) + \"€.\")\n",
    "print(\"Plus, you would still have the following shares in your portfolio:\")\n",
    "for i in portfolio.keys():\n",
    "    print(i)"
   ]
  },
  {
   "cell_type": "code",
   "execution_count": 6,
   "metadata": {},
   "outputs": [
    {
     "data": {
      "text/html": [
       "<div>\n",
       "<style scoped>\n",
       "    .dataframe tbody tr th:only-of-type {\n",
       "        vertical-align: middle;\n",
       "    }\n",
       "\n",
       "    .dataframe tbody tr th {\n",
       "        vertical-align: top;\n",
       "    }\n",
       "\n",
       "    .dataframe thead th {\n",
       "        text-align: right;\n",
       "    }\n",
       "</style>\n",
       "<table border=\"1\" class=\"dataframe\">\n",
       "  <thead>\n",
       "    <tr style=\"text-align: right;\">\n",
       "      <th></th>\n",
       "      <th>Capital</th>\n",
       "      <th>% Increase/Decrease</th>\n",
       "      <th>ROI %</th>\n",
       "    </tr>\n",
       "    <tr>\n",
       "      <th>Date</th>\n",
       "      <th></th>\n",
       "      <th></th>\n",
       "      <th></th>\n",
       "    </tr>\n",
       "  </thead>\n",
       "  <tbody>\n",
       "    <tr>\n",
       "      <th>2018-03-01</th>\n",
       "      <td>99307.180176</td>\n",
       "      <td>NaN</td>\n",
       "      <td>-0.69</td>\n",
       "    </tr>\n",
       "    <tr>\n",
       "      <th>2018-03-01</th>\n",
       "      <td>97688.981934</td>\n",
       "      <td>-1.63</td>\n",
       "      <td>-2.31</td>\n",
       "    </tr>\n",
       "    <tr>\n",
       "      <th>2018-03-19</th>\n",
       "      <td>96217.180725</td>\n",
       "      <td>-1.51</td>\n",
       "      <td>-3.78</td>\n",
       "    </tr>\n",
       "    <tr>\n",
       "      <th>2018-03-20</th>\n",
       "      <td>95813.140930</td>\n",
       "      <td>-0.42</td>\n",
       "      <td>-4.19</td>\n",
       "    </tr>\n",
       "    <tr>\n",
       "      <th>2018-03-21</th>\n",
       "      <td>95647.493835</td>\n",
       "      <td>-0.17</td>\n",
       "      <td>-4.35</td>\n",
       "    </tr>\n",
       "    <tr>\n",
       "      <th>...</th>\n",
       "      <td>...</td>\n",
       "      <td>...</td>\n",
       "      <td>...</td>\n",
       "    </tr>\n",
       "    <tr>\n",
       "      <th>2020-05-20</th>\n",
       "      <td>219822.745525</td>\n",
       "      <td>8.57</td>\n",
       "      <td>119.82</td>\n",
       "    </tr>\n",
       "    <tr>\n",
       "      <th>2020-06-09</th>\n",
       "      <td>236978.342449</td>\n",
       "      <td>7.80</td>\n",
       "      <td>136.98</td>\n",
       "    </tr>\n",
       "    <tr>\n",
       "      <th>2020-06-12</th>\n",
       "      <td>235501.442120</td>\n",
       "      <td>-0.62</td>\n",
       "      <td>135.50</td>\n",
       "    </tr>\n",
       "    <tr>\n",
       "      <th>2020-07-10</th>\n",
       "      <td>245522.839947</td>\n",
       "      <td>4.26</td>\n",
       "      <td>145.52</td>\n",
       "    </tr>\n",
       "    <tr>\n",
       "      <th>2020-07-24</th>\n",
       "      <td>243178.191891</td>\n",
       "      <td>-0.95</td>\n",
       "      <td>143.18</td>\n",
       "    </tr>\n",
       "  </tbody>\n",
       "</table>\n",
       "<p>88 rows × 3 columns</p>\n",
       "</div>"
      ],
      "text/plain": [
       "                  Capital  % Increase/Decrease   ROI %\n",
       "Date                                                  \n",
       "2018-03-01   99307.180176                  NaN   -0.69\n",
       "2018-03-01   97688.981934                -1.63   -2.31\n",
       "2018-03-19   96217.180725                -1.51   -3.78\n",
       "2018-03-20   95813.140930                -0.42   -4.19\n",
       "2018-03-21   95647.493835                -0.17   -4.35\n",
       "...                   ...                  ...     ...\n",
       "2020-05-20  219822.745525                 8.57  119.82\n",
       "2020-06-09  236978.342449                 7.80  136.98\n",
       "2020-06-12  235501.442120                -0.62  135.50\n",
       "2020-07-10  245522.839947                 4.26  145.52\n",
       "2020-07-24  243178.191891                -0.95  143.18\n",
       "\n",
       "[88 rows x 3 columns]"
      ]
     },
     "execution_count": 6,
     "metadata": {},
     "output_type": "execute_result"
    }
   ],
   "source": [
    "port_df = pd.DataFrame()\n",
    "port_df[\"Date\"] = [i[0] for i in port_trend]\n",
    "port_df[\"Capital\"] = [i[1] for i in port_trend]\n",
    "port_df[\"% Increase/Decrease\"] = np.round(((port_df[\"Capital\"] - port_df[\"Capital\"].shift(1)) / port_df[\"Capital\"].shift(1)), 4)*100\n",
    "port_df[\"ROI %\"] = np.round((port_df[\"Capital\"] - 100000) / 100000, 4)*100\n",
    "port_df.set_index(\"Date\")"
   ]
  },
  {
   "cell_type": "code",
   "execution_count": 12,
   "metadata": {},
   "outputs": [
    {
     "data": {
      "image/png": "[encoded data removed]",
      "text/plain": [
       "<Figure size 1080x720 with 1 Axes>"
      ]
     },
     "metadata": {
      "needs_background": "light"
     },
     "output_type": "display_data"
    }
   ],
   "source": [
    "plt.figure(figsize=(15,10))\n",
    "plt.plot(port_df[\"Capital\"], label = \"Capital\", color=\"r\")\n",
    "plt.legend(loc=\"upper left\")\n",
    "plt.xticks(port_df.index)\n",
    "plt.show()"
   ]
  },
  {
   "cell_type": "code",
   "execution_count": null,
   "metadata": {},
   "outputs": [],
   "source": []
  }
 ],
 "metadata": {
  "kernelspec": {
   "display_name": "Python 3",
   "language": "python",
   "name": "python3"
  },
  "language_info": {
   "codemirror_mode": {
    "name": "ipython",
    "version": 3
   },
   "file_extension": ".py",
   "mimetype": "text/x-python",
   "name": "python",
   "nbconvert_exporter": "python",
   "pygments_lexer": "ipython3",
   "version": "3.7.4"
  }
 },
 "nbformat": 4,
 "nbformat_minor": 2
}
